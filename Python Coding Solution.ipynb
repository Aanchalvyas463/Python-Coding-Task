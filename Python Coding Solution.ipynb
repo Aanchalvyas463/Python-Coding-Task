{
 "cells": [
  {
   "cell_type": "markdown",
   "id": "19a47b32-620a-40ce-a90e-5d30f46687e6",
   "metadata": {},
   "source": [
    "# Python Coding Task \n",
    "-------------------------------------------------------------------------------\n",
    "\n",
    "\n",
    "\n"
   ]
  },
  {
   "cell_type": "markdown",
   "id": "67ce5e4f-b107-428a-a677-274cd32d076e",
   "metadata": {},
   "source": [
    "## 1. Write a program to return highest number of times a character has occurred in a string."
   ]
  },
  {
   "cell_type": "code",
   "execution_count": 261,
   "id": "dc7b13af-d073-47d4-8925-1fa56c814794",
   "metadata": {},
   "outputs": [
    {
     "name": "stdin",
     "output_type": "stream",
     "text": [
      "Enter your string to check most frequent letter in it :  aanchal\n"
     ]
    },
    {
     "name": "stdout",
     "output_type": "stream",
     "text": [
      "Your string ... aanchal... has ...a... letter ..3.. times, which is the most frequent letter.\n"
     ]
    }
   ],
   "source": [
    "st = input(\"Enter your string to check most frequent letter in it : \")\n",
    "set1= set(st)\n",
    "d = {}\n",
    "\n",
    "for i in set1:\n",
    "    count = st.count(i)\n",
    "    d[count] = i\n",
    "    \n",
    "occurance = max(d)\n",
    "character = (d[occurance])\n",
    "\n",
    "print(\"Your string ... {}... has ...{}... letter ..{}.. times, which is the most frequent letter.\".format(st,character,occurance))"
   ]
  },
  {
   "cell_type": "markdown",
   "id": "6299261c-6db4-4b47-90dd-ba15368b07c1",
   "metadata": {},
   "source": [
    "## 2. Write a program to count number of Vowels & Consonants in a sentence."
   ]
  },
  {
   "cell_type": "code",
   "execution_count": 53,
   "id": "3c56d150-d31f-416f-a9bb-9b79683e1df3",
   "metadata": {},
   "outputs": [
    {
     "name": "stdin",
     "output_type": "stream",
     "text": [
      "Please Enter your string: agatrecioyrfk978584\n"
     ]
    },
    {
     "name": "stdout",
     "output_type": "stream",
     "text": [
      "Your string ...agatrecioyrfk978584... contain 5 vowels and 8 consonants\n"
     ]
    }
   ],
   "source": [
    "\n",
    "def to_count(p):\n",
    "    vowel = \"aeiouAEIOU\"\n",
    "    vow = 0\n",
    "    cons = 0\n",
    "    for i in p:\n",
    "        if i.isalpha() :\n",
    "            if i in \"aeiouAEIOU\":\n",
    "                vow +=  1\n",
    "\n",
    "            else:\n",
    "                cons += 1\n",
    "    return vow, cons\n",
    "s = input(\"Please Enter your string:\")\n",
    "vow, cons = to_count(s)\n",
    "print(\"Your string ...{}... contain {} vowels and {} consonants\".format(s,vow,cons))\n"
   ]
  },
  {
   "cell_type": "markdown",
   "id": "a351553b-90cd-4132-8393-f2125c7bc867",
   "metadata": {},
   "source": [
    "## 3. Write a program find the Transpose of a given Matrix."
   ]
  },
  {
   "cell_type": "code",
   "execution_count": 317,
   "id": "55f93713-0b0c-40fb-b04a-7d26728a8a38",
   "metadata": {},
   "outputs": [
    {
     "name": "stdout",
     "output_type": "stream",
     "text": [
      "[[1, 4, 7, 5], [2, 5, 8, 8], [3, 6, 9, 4]]\n"
     ]
    }
   ],
   "source": [
    "m= [[1,2,3],\n",
    "    [4,5,6],\n",
    "    [7,8,9],\n",
    "    [5,8,4]]\n",
    "\n",
    "row = len(m)    #3\n",
    "col = len(m[0]) #4\n",
    "\n",
    "t=[]\n",
    "\n",
    "\n",
    "for i in range(col):  #3\n",
    "    new = []\n",
    "    for j in range(row):  #4\n",
    "        new.append(m[j][i])\n",
    "    t.append(new)\n",
    "        \n",
    "        \n",
    "print(t)"
   ]
  },
  {
   "cell_type": "markdown",
   "id": "ba959400-2b0c-4da7-833d-4c44c9e02a93",
   "metadata": {},
   "source": [
    "## 4. Write a program to find Union & Intersection of 2 lists.\n"
   ]
  },
  {
   "cell_type": "code",
   "execution_count": 67,
   "id": "53df487e-b543-40a9-b0a2-f823d26acbc6",
   "metadata": {},
   "outputs": [
    {
     "name": "stdin",
     "output_type": "stream",
     "text": [
      "Enter your 1st list : 23456\n",
      "Enter your 2nd list : 123456\n"
     ]
    },
    {
     "name": "stdout",
     "output_type": "stream",
     "text": [
      "The Union of lists are : ['5', '1', '3', '2', '4', '6']\n",
      "The Intersection of lists are : ['2', '3', '4', '5', '6']\n"
     ]
    }
   ],
   "source": [
    "l1= list(input(\"Enter your 1st list :\"))\n",
    "l2 = list(input(\"Enter your 2nd list :\"))\n",
    "intersection = []\n",
    "union = list(set(l1+l2))\n",
    "print(\"The Union of lists are :\",union)\n",
    "\n",
    "for i in l1:\n",
    "    if i in l2:\n",
    "        intersection.append(i)\n",
    "\n",
    "print(\"The Intersection of lists are :\",intersection)\n",
    "\n",
    "\n",
    "        "
   ]
  },
  {
   "cell_type": "markdown",
   "id": "a8e6b1d5-41de-46a8-876a-4722339e626a",
   "metadata": {},
   "source": [
    "## 5. Write a program to find two Elements in an list such that their Sum is Closest to Zero.\n"
   ]
  },
  {
   "cell_type": "code",
   "execution_count": 185,
   "id": "9d8d3995-62b3-4ed5-ad00-d3816e906873",
   "metadata": {},
   "outputs": [
    {
     "name": "stdout",
     "output_type": "stream",
     "text": [
      "The two elements are 1 ,-2 whose sum is closest to Zero.\n"
     ]
    }
   ],
   "source": [
    "l= [1,2,3,4,5,-2]\n",
    "final = l[0]+l[1]\n",
    "for i in l:\n",
    "    for j in l:\n",
    "        \n",
    "        if i != j:\n",
    "            add= i+j\n",
    "            \n",
    "            if add < final:\n",
    "                final = add\n",
    "                a=i   #to store the recent value\n",
    "                b=j\n",
    "                \n",
    "print(\"The two elements are {} ,{} whose sum is closest to Zero.\".format(a,b))\n",
    "\n",
    "            "
   ]
  },
  {
   "cell_type": "markdown",
   "id": "dd0ac2bc-28c6-4835-99d9-0a0b2a2aeeac",
   "metadata": {},
   "source": [
    "## 6. Write a program to find Largest & Smallest Word in a String.\n"
   ]
  },
  {
   "cell_type": "code",
   "execution_count": 83,
   "id": "3a88c68b-913e-4b64-a3df-b11a14eb7aab",
   "metadata": {},
   "outputs": [
    {
     "name": "stdin",
     "output_type": "stream",
     "text": [
      "Please write your Sentence :  my name is aanchal\n"
     ]
    },
    {
     "name": "stdout",
     "output_type": "stream",
     "text": [
      "Here Largest word is : aanchal\n",
      "Here Smallest word is : my\n"
     ]
    }
   ],
   "source": [
    "st = input(\"Please write your Sentence : \")\n",
    "words = st.split()\n",
    "\n",
    "# if lenghths of words are same so we declare the largest/smallest to the first one\n",
    "\n",
    "largest = words[0]\n",
    "smallest = words[0]\n",
    "\n",
    "for i in words:\n",
    "    if len(i) > len(largest):\n",
    "        largest = i\n",
    "    if len(i) < len(smallest):\n",
    "        smallest = i\n",
    "\n",
    "print(\"Here Largest word is :\",largest)\n",
    "print(\"Here Smallest word is :\",smallest)"
   ]
  },
  {
   "cell_type": "markdown",
   "id": "45ad9b70-bb77-42f8-a1b9-e9464eef852d",
   "metadata": {},
   "source": [
    "## 7. Write a program to find Median of Elements after Merging 2 list."
   ]
  },
  {
   "cell_type": "code",
   "execution_count": 155,
   "id": "2aa22bbb-5b5b-49b3-bcdb-8bccf9eb0bcd",
   "metadata": {},
   "outputs": [
    {
     "name": "stdin",
     "output_type": "stream",
     "text": [
      "Enter your 1st list : 123456\n",
      "Enter your 2nd list : 123456\n"
     ]
    },
    {
     "data": {
      "text/plain": [
       "3.5"
      ]
     },
     "execution_count": 155,
     "metadata": {},
     "output_type": "execute_result"
    }
   ],
   "source": [
    "l1 = list(input(\"Enter your 1st list :\"))\n",
    "l2 = list(input(\"Enter your 2nd list :\"))\n",
    "\n",
    "listt = (sorted(l1+l2))\n",
    "\n",
    "n = len(listt)\n",
    "\n",
    "if n%2 == 0:\n",
    "    first = listt[n//2]\n",
    "    second = listt[n//2 -1]\n",
    "    #median = (first + second) / 2\n",
    "    #print(first)\n",
    "    #print(second)\n",
    "    median = (int(first) + int(second))/2\n",
    "    \n",
    "\n",
    "else:\n",
    "    median = listt[n//2]  # floor devision takes the floor value\n",
    "median"
   ]
  },
  {
   "cell_type": "code",
   "execution_count": null,
   "id": "2940cbf1-3a0f-4c63-bbac-ed3cfe33de90",
   "metadata": {},
   "outputs": [],
   "source": []
  },
  {
   "cell_type": "code",
   "execution_count": null,
   "id": "ee97e6da-9a7f-4045-90d7-cf1eff0398fb",
   "metadata": {},
   "outputs": [],
   "source": []
  },
  {
   "cell_type": "code",
   "execution_count": null,
   "id": "b647a131-61ea-4b8b-bc23-1b0544c1af48",
   "metadata": {},
   "outputs": [],
   "source": []
  },
  {
   "cell_type": "code",
   "execution_count": null,
   "id": "e6651f23-079f-4986-a2cd-205c23b4337d",
   "metadata": {},
   "outputs": [],
   "source": []
  }
 ],
 "metadata": {
  "kernelspec": {
   "display_name": "Python 3 (ipykernel)",
   "language": "python",
   "name": "python3"
  },
  "language_info": {
   "codemirror_mode": {
    "name": "ipython",
    "version": 3
   },
   "file_extension": ".py",
   "mimetype": "text/x-python",
   "name": "python",
   "nbconvert_exporter": "python",
   "pygments_lexer": "ipython3",
   "version": "3.12.7"
  }
 },
 "nbformat": 4,
 "nbformat_minor": 5
}
